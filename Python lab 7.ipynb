{
 "cells": [
  {
   "cell_type": "code",
   "execution_count": 2,
   "metadata": {},
   "outputs": [
    {
     "name": "stdout",
     "output_type": "stream",
     "text": [
      "input the number one: 45\n",
      "input the number one: 2\n",
      "The product is 90\n"
     ]
    }
   ],
   "source": [
    "#Q1 \n",
    "def add_num(a,b):#function for multiplication\n",
    "    multiply=a*b;\n",
    "    return multiply; #return value\n",
    "num1=int(input(\"input the number one: \"))#input from user for num1\n",
    "num2=int(input(\"input the number one: \"))#input from user for num2\n",
    "print(\"The product is\",add_num(num1,num2))#call te function"
   ]
  },
  {
   "cell_type": "code",
   "execution_count": 5,
   "metadata": {},
   "outputs": [
    {
     "name": "stdout",
     "output_type": "stream",
     "text": [
      "input the number one: 100\n",
      "input the number one: 2\n",
      "The product is 102\n"
     ]
    }
   ],
   "source": [
    "#Q2 \n",
    "def sum_num(a,b):#function for add\n",
    "    add=a+b;\n",
    "    return add; #return value\n",
    "num1=int(input(\"input the number one: \"))#input from user for num1\n",
    "num2=int(input(\"input the number one: \"))#input from user for num2\n",
    "print(\"The Sum is\",sum_num(num1,num2))#call te function"
   ]
  },
  {
   "cell_type": "code",
   "execution_count": 6,
   "metadata": {},
   "outputs": [
    {
     "name": "stdout",
     "output_type": "stream",
     "text": [
      "Please enter any number to find factorial: 5\n",
      "The factorial of 5 = 120\n"
     ]
    }
   ],
   "source": [
    "#Q3\n",
    "def factorial(num):#function definition\n",
    "    fact=1\n",
    "    for i in range(1, num+1):#for loop for finding factorial\n",
    "        fact=fact*i\n",
    "    return fact    #return factorial \n",
    "number=int(input(\"Please enter any number to find factorial: \"))\n",
    "result=factorial(number)#function call and assign the value to variable result\n",
    "print(\"The factorial of %d = %d\"%(number,result))"
   ]
  },
  {
   "cell_type": "code",
   "execution_count": 9,
   "metadata": {},
   "outputs": [
    {
     "name": "stdout",
     "output_type": "stream",
     "text": [
      "Fibonacci sequence:\n",
      "0\n",
      "1\n",
      "1\n",
      "2\n",
      "3\n",
      "5\n",
      "8\n",
      "13\n",
      "21\n",
      "34\n"
     ]
    }
   ],
   "source": [
    "#Q4\n",
    "def recur_fibo(n):\n",
    "   if n <= 1:\n",
    "       return n\n",
    "   else:\n",
    "       return(recur_fibo(n-1) + recur_fibo(n-2))\n",
    "\n",
    "nterms = 10\n",
    "\n",
    "# check if the number of terms is valid\n",
    "if nterms <= 0:\n",
    "   print(\"Plese enter a positive integer\")\n",
    "else:\n",
    "   print(\"Fibonacci sequence:\")\n",
    "   for i in range(nterms):\n",
    "       print(recur_fibo(i))"
   ]
  },
  {
   "cell_type": "code",
   "execution_count": 10,
   "metadata": {},
   "outputs": [
    {
     "name": "stdout",
     "output_type": "stream",
     "text": [
      " Please Enter the First Value : 4\n",
      " Please Enter the Second Value : 2\n",
      "Before Swapping two Number: num1 = 4.0 and num2 = 2.0\n",
      "After Swapping two Number: num1 = 2.0 and num2 = 4.0\n"
     ]
    }
   ],
   "source": [
    "#Q5\n",
    "def swap_numbers(a, b):\n",
    "    temp = a\n",
    "    a = b\n",
    "    b = temp\n",
    "    \n",
    "    print(\"After Swapping two Number: num1 = {0} and num2 = {1}\".format(a, b))\n",
    " \n",
    "num1 = float(input(\" Please Enter the First Value : \"))\n",
    "num2 = float(input(\" Please Enter the Second Value : \"))\n",
    "\n",
    "print(\"Before Swapping two Number: num1 = {0} and num2 = {1}\".format(num1, num2))\n",
    "swap_numbers(num1, num2)"
   ]
  },
  {
   "cell_type": "code",
   "execution_count": 13,
   "metadata": {},
   "outputs": [
    {
     "name": "stdout",
     "output_type": "stream",
     "text": [
      " Please Enter the First Value : 34\n",
      " Please Enter the Second Value : 54\n",
      "The H.C.F. is 2\n"
     ]
    }
   ],
   "source": [
    "#Q6\n",
    "def compute_hcf(x, y):\n",
    "    if x > y:\n",
    "        smaller = y\n",
    "    else:\n",
    "        smaller = x\n",
    "    for i in range(1, smaller+1):\n",
    "        if((x % i == 0) and (y % i == 0)):\n",
    "            hcf = i \n",
    "    return hcf\n",
    "\n",
    "num1 = int(input(\" Please Enter the First Number : \")) \n",
    "num2 = int(input(\" Please Enter the Second Number : \"))\n",
    "\n",
    "print(\"The H.C.F. is\", compute_hcf(num1, num2))\n"
   ]
  },
  {
   "cell_type": "code",
   "execution_count": 17,
   "metadata": {},
   "outputs": [
    {
     "name": "stdout",
     "output_type": "stream",
     "text": [
      " Please Enter the Alphabet : z\n",
      "The ASCII value of 'z' is 122\n"
     ]
    }
   ],
   "source": [
    "#Q7\n",
    "c = (input(\" Please Enter the Alphabet : \")) \n",
    "print(\"The ASCII value of '\" + c + \"' is\", ord(c)) "
   ]
  },
  {
   "cell_type": "code",
   "execution_count": 21,
   "metadata": {},
   "outputs": [
    {
     "data": {
      "text/plain": [
       "7"
      ]
     },
     "execution_count": 21,
     "metadata": {},
     "output_type": "execute_result"
    }
   ],
   "source": [
    "#Q8\n",
    "abs(-7)\n",
    "\n",
    "\n"
   ]
  },
  {
   "cell_type": "code",
   "execution_count": null,
   "metadata": {},
   "outputs": [],
   "source": [
    "any((1,0,0))"
   ]
  },
  {
   "cell_type": "code",
   "execution_count": 22,
   "metadata": {},
   "outputs": [
    {
     "data": {
      "text/plain": [
       "'0b111'"
      ]
     },
     "execution_count": 22,
     "metadata": {},
     "output_type": "execute_result"
    }
   ],
   "source": [
    " #bin() converts an integer to a binary string\n",
    "    bin(7)"
   ]
  },
  {
   "cell_type": "code",
   "execution_count": 24,
   "metadata": {},
   "outputs": [
    {
     "name": "stdout",
     "output_type": "stream",
     "text": [
      "Present date is : 2020-03-30\n"
     ]
    }
   ],
   "source": [
    "#Q9 \n",
    "import datetime \n",
    "from datetime import date  \n",
    "print (\"Present date is : \",end=\"\") \n",
    "print (date.today()) "
   ]
  },
  {
   "cell_type": "code",
   "execution_count": 27,
   "metadata": {},
   "outputs": [
    {
     "name": "stdout",
     "output_type": "stream",
     "text": [
      "Hello , Good morning!\n",
      "Hello , How do you do?\n"
     ]
    }
   ],
   "source": [
    "#Q10\n",
    "# Function definition is here\n",
    "def printme( str ):\n",
    "   \"This prints a passed string into this function\"\n",
    "   print str\n",
    "   return;\n",
    "\n",
    "# Now you can call printme function\n",
    "printme(\"I'm first call to user defined function!\")\n",
    "printme(\"Again second call to the same function\")"
   ]
  },
  {
   "cell_type": "code",
   "execution_count": 29,
   "metadata": {},
   "outputs": [
    {
     "name": "stdout",
     "output_type": "stream",
     "text": [
      "Geeks Practice\n",
      "Geeks Practice\n"
     ]
    }
   ],
   "source": [
    "#Q11\n",
    "# Python program to demonstrate Keyword Arguments \n",
    "def student(firstname, lastname):  \n",
    "     print(firstname, lastname)  \n",
    "    \n",
    "    \n",
    "# Keyword arguments                   \n",
    "student(firstname ='Geeks', lastname ='Practice')     \n",
    "student(lastname ='Practice', firstname ='Geeks') "
   ]
  },
  {
   "cell_type": "code",
   "execution_count": 28,
   "metadata": {},
   "outputs": [
    {
     "name": "stdout",
     "output_type": "stream",
     "text": [
      "x:  10\n",
      "y:  50\n"
     ]
    }
   ],
   "source": [
    "#Q12\n",
    " # Python program to demonstrate \n",
    "# default arguments \n",
    "def myFun(x, y=50): \n",
    "    print(\"x: \", x) \n",
    "    print(\"y: \", y) \n",
    "  \n",
    "# Driver code (We call myFun() with only \n",
    "# argument) \n",
    "myFun(10) "
   ]
  },
  {
   "cell_type": "code",
   "execution_count": null,
   "metadata": {},
   "outputs": [],
   "source": [
    "#Q13\n",
    "# Python program to illustrate   \n",
    "# *args for variable number of arguments \n",
    "def myFun(*argv):  \n",
    "    for arg in argv:  \n",
    "        print (arg) \n",
    "    \n",
    "myFun('Hello', 'Welcome', 'to', 'GeeksforGeeks')"
   ]
  }
 ],
 "metadata": {
  "kernelspec": {
   "display_name": "Python 3",
   "language": "python",
   "name": "python3"
  },
  "language_info": {
   "codemirror_mode": {
    "name": "ipython",
    "version": 3
   },
   "file_extension": ".py",
   "mimetype": "text/x-python",
   "name": "python",
   "nbconvert_exporter": "python",
   "pygments_lexer": "ipython3",
   "version": "3.7.4"
  }
 },
 "nbformat": 4,
 "nbformat_minor": 2
}
