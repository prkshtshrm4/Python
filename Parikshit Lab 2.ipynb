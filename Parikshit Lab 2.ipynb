{
 "cells": [
  {
   "cell_type": "code",
   "execution_count": 2,
   "metadata": {},
   "outputs": [
    {
     "name": "stdout",
     "output_type": "stream",
     "text": [
      "Enter a number: 98\n",
      "98 is Even number\n"
     ]
    }
   ],
   "source": [
    "#Q1 Check whether a number is even or odd\n",
    "A = int(input(\"Enter a number: \"))  \n",
    "if (A % 2) == 0:  \n",
    "   print(\"{0} is Even number\".format(A))  \n",
    "else:  \n",
    "   print(\"{0} is Odd number\".format(A))  "
   ]
  },
  {
   "cell_type": "code",
   "execution_count": 4,
   "metadata": {},
   "outputs": [
    {
     "name": "stdout",
     "output_type": "stream",
     "text": [
      "Enter The year1997\n",
      "1997  is a Non-Leap Year\n"
     ]
    }
   ],
   "source": [
    "#Q2 Check whether an entered year is leap year or not.\n",
    "Year = int(input(\"Enter The year\"))  \n",
    "if (Year % 4) == 0:  \n",
    "   print(\"{0} is a Leap Year\".format(Year))  \n",
    "else:  \n",
    "   print(\"{0}  is a Non-Leap Year\".format(Year))"
   ]
  },
  {
   "cell_type": "code",
   "execution_count": 8,
   "metadata": {},
   "outputs": [
    {
     "name": "stdout",
     "output_type": "stream",
     "text": [
      "Enter An Alphabeto\n",
      "o is a Vowel\n"
     ]
    }
   ],
   "source": [
    "#Q3 Write a program to check whether a character is vowel or consonants.\n",
    "Alphabet =(input(\"Enter An Alphabet\"))  \n",
    "if (Alphabet == 'A','E','I','O','U','a','e','i','o','u'):  \n",
    "   print(\"{0} is a Vowel\".format(Alphabet))  \n",
    "else:  \n",
    "   print(\"{0}  is a Consonent\".format(Alphabet))\n"
   ]
  },
  {
   "cell_type": "code",
   "execution_count": 16,
   "metadata": {},
   "outputs": [
    {
     "name": "stdout",
     "output_type": "stream",
     "text": [
      "Enter First Number: 5\n",
      "Enter Second Number: 6\n",
      "5 is Smallest Number\n"
     ]
    }
   ],
   "source": [
    "#Q4 Write a program to find the smallest of two numbers.\n",
    "First = int(input(\"Enter First Number: \")) \n",
    "Second = int(input(\"Enter Second Number: \"))\n",
    "if (First < Second) == 0:  \n",
    "   print(\"{0} is Smallest Number\".format(Second))  \n",
    "else:  \n",
    "   print(\"{0} is Smallest Number\".format(First))  "
   ]
  },
  {
   "cell_type": "code",
   "execution_count": 25,
   "metadata": {},
   "outputs": [
    {
     "name": "stdout",
     "output_type": "stream",
     "text": [
      "Enter a number: 6\n",
      "The factorial of 6 is 720\n"
     ]
    }
   ],
   "source": [
    "#Q5 Find the Factorial of a Number\n",
    "num = int(input(\"Enter a number: \"))\n",
    "factorial = 1\n",
    "if num < 0:\n",
    "   print(\"Sorry, factorial does not exist for negative numbers\")\n",
    "elif num == 0:\n",
    "   print(\"The factorial of 0 is 1\")\n",
    "else:\n",
    "   for i in range(1,num + 1):\n",
    "       factorial = factorial*i\n",
    "   print(\"The factorial of\",num,\"is\",factorial)"
   ]
  },
  {
   "cell_type": "code",
   "execution_count": 4,
   "metadata": {},
   "outputs": [
    {
     "name": "stdout",
     "output_type": "stream",
     "text": [
      "      * \n",
      "    * * * \n",
      "  * * * * * \n",
      "* * * * * * * \n"
     ]
    }
   ],
   "source": [
    "#Q6 Write a program to print this patterns \n",
    "\n",
    "k = 0\n",
    "rows = 4\n",
    "for i in range(1, rows+1):\n",
    "    for space in range(1, (rows-i)+1):\n",
    "        print(end=\"  \")\n",
    "    while k != (2*i-1):\n",
    "        print(\"* \", end=\"\")\n",
    "        k = k + 1\n",
    "    k = 0\n",
    "    print()"
   ]
  },
  {
   "cell_type": "code",
   "execution_count": 29,
   "metadata": {},
   "outputs": [
    {
     "name": "stdout",
     "output_type": "stream",
     "text": [
      "How many terms? 7\n",
      "Fibonacci sequence:\n",
      "0\n",
      "1\n",
      "1\n",
      "2\n",
      "3\n",
      "5\n",
      "8\n"
     ]
    }
   ],
   "source": [
    "#Q7 Write a program to print this series\n",
    "        #     1 1 2 3 5 8 13 \n",
    "nterms = int(input(\"How many terms? \"))\n",
    "n1, n2 = 0, 1\n",
    "count = 0\n",
    "if nterms <= 0:\n",
    "   print(\"Please enter a positive integer\")\n",
    "elif nterms == 1:\n",
    "   print(\"Fibonacci sequence upto\",nterms,\":\")\n",
    "   print(n1)\n",
    "else:\n",
    "   print(\"Fibonacci sequence:\")\n",
    "   while count < nterms:\n",
    "       print(n1)\n",
    "       nth = n1 + n2\n",
    "       # update values\n",
    "       n1 = n2\n",
    "       n2 = nth\n",
    "       count += 1"
   ]
  },
  {
   "cell_type": "code",
   "execution_count": 34,
   "metadata": {},
   "outputs": [
    {
     "name": "stdout",
     "output_type": "stream",
     "text": [
      "Enter a number: 59\n",
      "59 is a prime number\n"
     ]
    }
   ],
   "source": [
    "#Q8 Check whether a number is prime or not\n",
    "num = int(input(\"Enter a number: \"))\n",
    "if num > 1:\n",
    "   for i in range(2,num):\n",
    "       if (num % i) == 0:\n",
    "           print(num,\"is not a prime number\")\n",
    "           break\n",
    "   else:\n",
    "       print(num,\"is a prime number\")\n",
    "else:\n",
    "   print(num,\"is not a prime number\")"
   ]
  },
  {
   "cell_type": "code",
   "execution_count": null,
   "metadata": {},
   "outputs": [],
   "source": []
  }
 ],
 "metadata": {
  "kernelspec": {
   "display_name": "Python 3",
   "language": "python",
   "name": "python3"
  },
  "language_info": {
   "codemirror_mode": {
    "name": "ipython",
    "version": 3
   },
   "file_extension": ".py",
   "mimetype": "text/x-python",
   "name": "python",
   "nbconvert_exporter": "python",
   "pygments_lexer": "ipython3",
   "version": "3.7.4"
  }
 },
 "nbformat": 4,
 "nbformat_minor": 2
}
